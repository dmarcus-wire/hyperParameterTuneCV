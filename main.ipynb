{
 "cells": [
  {
   "cell_type": "markdown",
   "metadata": {
    "collapsed": true,
    "pycharm": {
     "name": "#%% md\n"
    }
   },
   "source": [
    "Import packages"
   ]
  },
  {
   "cell_type": "code",
   "execution_count": 1,
   "outputs": [],
   "source": [
    "# import the necessary packages\n",
    "from sklearn.model_selection import GridSearchCV\n",
    "from sklearn.metrics import classification_report\n",
    "from sklearn.svm import SVC\n",
    "from sklearn.model_selection import train_test_split\n",
    "from skimage import feature\n",
    "from imutils import paths\n",
    "import numpy as np\n",
    "import time\n",
    "import cv2\n",
    "import os"
   ],
   "metadata": {
    "collapsed": false,
    "pycharm": {
     "name": "#%%\n"
    }
   }
  },
  {
   "cell_type": "markdown",
   "source": [
    "Local Binary Pattern descriptor"
   ],
   "metadata": {
    "collapsed": false,
    "pycharm": {
     "name": "#%% md\n"
    }
   }
  },
  {
   "cell_type": "code",
   "execution_count": 2,
   "outputs": [],
   "source": [
    "class LocalBinaryPatterns:\n",
    "\tdef __init__(self, numPoints, radius):\n",
    "\t\t# store the number of points and radius\n",
    "\t\tself.numPoints = numPoints\n",
    "\t\tself.radius = radius\n",
    "\n",
    "\tdef describe(self, image, eps=1e-7):\n",
    "\t\t# compute the Local Binary Pattern representation\n",
    "\t\t# of the image, and then use the LBP representation\n",
    "\t\t# to build the histogram of patterns\n",
    "\t\tlbp = feature.local_binary_pattern(image, self.numPoints,\n",
    "\t\t\tself.radius, method=\"uniform\")\n",
    "\t\t(hist, _) = np.histogram(lbp.ravel(),\n",
    "\t\t\tbins=np.arange(0, self.numPoints + 3),\n",
    "\t\t\trange=(0, self.numPoints + 2))\n",
    "\n",
    "\t\t# normalize the histogram\n",
    "\t\thist = hist.astype(\"float\")\n",
    "\t\thist /= (hist.sum() + eps)\n",
    "\n",
    "\t\t# return the histogram of Local Binary Patterns\n",
    "\t\treturn hist"
   ],
   "metadata": {
    "collapsed": false,
    "pycharm": {
     "name": "#%%\n"
    }
   }
  },
  {
   "cell_type": "markdown",
   "source": [
    "# Grid search for hyperparameter tuning"
   ],
   "metadata": {
    "collapsed": false,
    "pycharm": {
     "name": "#%% md\n"
    }
   }
  },
  {
   "cell_type": "code",
   "execution_count": 6,
   "outputs": [],
   "source": [
    "# since we are using Jupyter Notebooks we can replace our argument\n",
    "# parsing code with *hard coded* arguments and values\n",
    "args = {\n",
    "\t\"dataset\": \"dataset/texture_dataset\"\n",
    "}"
   ],
   "metadata": {
    "collapsed": false,
    "pycharm": {
     "name": "#%%\n"
    }
   }
  },
  {
   "cell_type": "code",
   "source": [
    "# grab the image paths in the input dataset directory\n",
    "imagePaths = list(paths.list_images(args[\"dataset\"]))\n",
    "\n",
    "# initialize the local binary patterns descriptor along with\n",
    "# the data and label lists\n",
    "print(\"[INFO] extracting features...\")\n",
    "desc = LocalBinaryPatterns(24, 8)\n",
    "data = []\n",
    "labels = []"
   ],
   "metadata": {
    "collapsed": false,
    "pycharm": {
     "name": "#%%\n"
    }
   },
   "execution_count": 7,
   "outputs": [
    {
     "name": "stdout",
     "output_type": "stream",
     "text": [
      "[INFO] extracting features...\n"
     ]
    }
   ]
  },
  {
   "cell_type": "code",
   "execution_count": 8,
   "outputs": [
    {
     "name": "stdout",
     "output_type": "stream",
     "text": [
      "[INFO] constructing training/testing split...\n"
     ]
    }
   ],
   "source": [
    "# loop over the dataset of images\n",
    "for imagePath in imagePaths:\n",
    "\t# load the image, convert it to grayscale, and quantify it\n",
    "\t# using LBPs\n",
    "\timage = cv2.imread(imagePath)\n",
    "\tgray = cv2.cvtColor(image, cv2.COLOR_BGR2GRAY)\n",
    "\thist = desc.describe(gray)\n",
    "\n",
    "\t# extract the label from the image path, then update the\n",
    "\t# label and data lists\n",
    "\tlabels.append(imagePath.split(os.path.sep)[-2])\n",
    "\tdata.append(hist)\n",
    "\n",
    "# partition the data into training and testing splits using 75% of\n",
    "# the data for training and the remaining 25% for testing\n",
    "print(\"[INFO] constructing training/testing split...\")\n",
    "(trainX, testX, trainY, testY) = train_test_split(data, labels,\n",
    "\trandom_state=22, test_size=0.25)"
   ],
   "metadata": {
    "collapsed": false,
    "pycharm": {
     "name": "#%%\n"
    }
   }
  },
  {
   "cell_type": "code",
   "execution_count": 9,
   "outputs": [],
   "source": [
    "# construct the set of hyperparameters to tune\n",
    "parameters = [\n",
    "\t{\"kernel\":\n",
    "\t\t[\"linear\"],\n",
    "\t\t\"C\": [0.0001, 0.001, 0.1, 1, 10, 100, 1000]},\n",
    "\t{\"kernel\":\n",
    "\t\t[\"poly\"],\n",
    "\t\t\"degree\": [2, 3, 4],\n",
    "\t\t\"C\": [0.0001, 0.001, 0.1, 1, 10, 100, 1000]},\n",
    "\t{\"kernel\":\n",
    "\t\t[\"rbf\"],\n",
    "\t\t\"gamma\": [\"auto\", \"scale\"],\n",
    "\t\t\"C\": [0.0001, 0.001, 0.1, 1, 10, 100, 1000]}\n",
    "]"
   ],
   "metadata": {
    "collapsed": false,
    "pycharm": {
     "name": "#%%\n"
    }
   }
  },
  {
   "cell_type": "code",
   "execution_count": 10,
   "outputs": [
    {
     "name": "stdout",
     "output_type": "stream",
     "text": [
      "[INFO] tuning hyperparameters via grid search\n",
      "[INFO] grid search took 2.42 seconds\n",
      "[INFO] grid search best score: 88.02%\n",
      "[INFO] grid search best parameters: {'C': 1000, 'degree': 4, 'kernel': 'poly'}\n"
     ]
    }
   ],
   "source": [
    "# tune the hyperparameters via a cross-validated grid search\n",
    "print(\"[INFO] tuning hyperparameters via grid search\")\n",
    "grid = GridSearchCV(estimator=SVC(), param_grid=parameters, n_jobs=-1)\n",
    "start = time.time()\n",
    "grid.fit(trainX, trainY)\n",
    "end = time.time()\n",
    "\n",
    "# show the grid search information\n",
    "print(\"[INFO] grid search took {:.2f} seconds\".format(\n",
    "\tend - start))\n",
    "print(\"[INFO] grid search best score: {:.2f}%\".format(\n",
    "\tgrid.best_score_ * 100))\n",
    "print(\"[INFO] grid search best parameters: {}\".format(\n",
    "\tgrid.best_params_))"
   ],
   "metadata": {
    "collapsed": false,
    "pycharm": {
     "name": "#%%\n"
    }
   }
  },
  {
   "cell_type": "code",
   "execution_count": 11,
   "outputs": [
    {
     "name": "stdout",
     "output_type": "stream",
     "text": [
      "[INFO] evaluating...\n",
      "              precision    recall  f1-score   support\n",
      "\n",
      "       brick       1.00      0.88      0.93         8\n",
      "      marble       1.00      1.00      1.00         5\n",
      "        sand       0.91      1.00      0.95        10\n",
      "\n",
      "    accuracy                           0.96        23\n",
      "   macro avg       0.97      0.96      0.96        23\n",
      "weighted avg       0.96      0.96      0.96        23\n",
      "\n"
     ]
    }
   ],
   "source": [
    "# grab the best model and evaluate it\n",
    "print(\"[INFO] evaluating...\")\n",
    "model = grid.best_estimator_\n",
    "predictions = model.predict(testX)\n",
    "print(classification_report(testY, predictions))"
   ],
   "metadata": {
    "collapsed": false,
    "pycharm": {
     "name": "#%%\n"
    }
   }
  },
  {
   "cell_type": "code",
   "execution_count": null,
   "outputs": [],
   "source": [],
   "metadata": {
    "collapsed": false,
    "pycharm": {
     "name": "#%%\n"
    }
   }
  }
 ],
 "metadata": {
  "kernelspec": {
   "display_name": "Python 3",
   "language": "python",
   "name": "python3"
  },
  "language_info": {
   "codemirror_mode": {
    "name": "ipython",
    "version": 2
   },
   "file_extension": ".py",
   "mimetype": "text/x-python",
   "name": "python",
   "nbconvert_exporter": "python",
   "pygments_lexer": "ipython2",
   "version": "2.7.6"
  }
 },
 "nbformat": 4,
 "nbformat_minor": 0
}